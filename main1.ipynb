{
 "cells": [
  {
   "cell_type": "code",
   "execution_count": 1,
   "metadata": {},
   "outputs": [],
   "source": [
    "import wave\n",
    "import librosa\n",
    "import soundfile as sf\n",
    "import os\n",
    "from tqdm import tqdm\n",
    "from glob import glob"
   ]
  },
  {
   "attachments": {},
   "cell_type": "markdown",
   "metadata": {},
   "source": [
    "# 영상 -> 음원 -> 분리"
   ]
  },
  {
   "attachments": {},
   "cell_type": "markdown",
   "metadata": {},
   "source": [
    "## 영상 다운로드 하고 wav로 저장"
   ]
  },
  {
   "cell_type": "code",
   "execution_count": 125,
   "metadata": {},
   "outputs": [
    {
     "data": {
      "text/plain": [
       "'d:\\\\Python\\\\vocoder\\\\etc'"
      ]
     },
     "execution_count": 125,
     "metadata": {},
     "output_type": "execute_result"
    }
   ],
   "source": [
    "# os.chdir('../')\n",
    "os.getcwd()"
   ]
  },
  {
   "cell_type": "code",
   "execution_count": 159,
   "metadata": {},
   "outputs": [
    {
     "data": {
      "text/plain": [
       "87"
      ]
     },
     "execution_count": 159,
     "metadata": {},
     "output_type": "execute_result"
    }
   ],
   "source": [
    "urls = [\n",
    "    'https://www.youtube.com/watch?v=UCyz1pNO2oc',  # 김광석 - 잊어야 한다는 마음으로\n",
    "    'https://www.youtube.com/watch?v=DMw5RKcbKVY',  # 김광석 - 서른 즈음에\n",
    "    'https://www.youtube.com/watch?v=CYtv_k3fZyU',  # 김광석 - 이등병의 편지\n",
    "    'https://www.youtube.com/watch?v=nFXTf9PodCw',  # 김광석 - 먼지가 되어\n",
    "    'https://www.youtube.com/watch?v=ZZEv8ZB6G_s',  # 김광석 - 사랑했지만\n",
    "    'https://www.youtube.com/watch?v=38aOImEIJ7s',  # 깅광석 - 광야에서\n",
    "    'https://www.youtube.com/watch?v=vIv4-BjfYMM',  # 김광석 - 그대 웃음소리\n",
    "    'https://www.youtube.com/watch?v=t0etgCzvohc',  # 김광석 - 흐린 가을 하늘에 편지를 써\n",
    "    'https://www.youtube.com/watch?v=mOi-NNP_C4o',  # 김광석 - 기다려줘\n",
    "    'https://www.youtube.com/watch?v=-fQ4sajHM2c',  # 김광석 - 그루터기\n",
    "    'https://www.youtube.com/watch?v=7UwJkhLMtJQ',  # 김광석 - 말하지 못한 내 사랑\n",
    "    'https://www.youtube.com/watch?v=oy9BSiKIY4E',  # 김광석 - 거리에서\n",
    "    'https://www.youtube.com/watch?v=_eYX_SjA8po',  # 김광석 - 슬픈 노래\n",
    "    'https://www.youtube.com/watch?v=YWVTqzEsbvI',  # 김광석 - 너에게\n",
    "    'https://www.youtube.com/watch?v=UN088ASfMVw',  # 김광석 - 그날들\n",
    "    'https://www.youtube.com/watch?v=DfBaNMRybnY',  # 김광석 - 사랑이라는 이유로\n",
    "    'https://www.youtube.com/watch?v=Iib_LVcq_4A',  # 김광석 - 자유롭게\n",
    "    'https://www.youtube.com/watch?v=pENqrA4u0EA',  # 김광석 - 맑고 향기롭게\n",
    "    'https://www.youtube.com/watch?v=Hp1t88gI6bI',  # 김광석 - 끊어진 길\n",
    "    'https://www.youtube.com/watch?v=9eFOzhmubWA',  # 김광석 - 혼자 남은 밤\n",
    "    'https://www.youtube.com/watch?v=NASQB-oJ6dI',  # 김광석 - 너무 아픈 사랑이 아니였음을\n",
    "    'https://www.youtube.com/watch?v=lL__fO7qxJ8',  # 김광석 - 회귀\n",
    "    'https://www.youtube.com/watch?v=V20kfzhjVw8',  # 김광석 - 바람이 불어오는 곳\n",
    "    'https://www.youtube.com/watch?v=MrDdP6P5zgg',  # 김광석 - 일어나\n",
    "    'https://www.youtube.com/watch?v=nxm4Kgg4aFY',  # 김광석 - 행복의 문\n",
    "    'https://www.youtube.com/watch?v=rwjBjkaUGyU',  # 김광석 - 그대가 기억하는 내 모습\n",
    "    'https://www.youtube.com/watch?v=LqTpwtskWDw',  # 김광석 - 기대어 앉은 오후에는\n",
    "    'https://www.youtube.com/watch?v=vXhg-jUpOdY',  # 김광석 - 나무\n",
    "    'https://www.youtube.com/watch?v=ZpvkSOtASIc',  # 김광석 - 나의 노래\n",
    "]\n",
    "\n",
    "len(urls) * 3"
   ]
  },
  {
   "cell_type": "code",
   "execution_count": 150,
   "metadata": {},
   "outputs": [
    {
     "name": "stdout",
     "output_type": "stream",
     "text": [
      "음악 다운로드 성공!\n"
     ]
    },
    {
     "data": {
      "text/plain": [
       "1"
      ]
     },
     "execution_count": 150,
     "metadata": {},
     "output_type": "execute_result"
    }
   ],
   "source": [
    "# 영상 다운로드\n",
    "from pytube import YouTube\n",
    "import moviepy.editor as mp\n",
    "import subprocess\n",
    "import re\n",
    "\n",
    "path = './music_files/'\n",
    "\n",
    "#유튜브 전용 인스턴스 생성\n",
    "# yt = YouTube('https://www.youtube.com/watch?v=jeqdYqsrsA0') # 아이유 - 좋은날\n",
    "# yt = YouTube('https://www.youtube.com/watch?v=H9LXmjxuveA') # 소찬휘 - tears\n",
    "# yt = YouTube('https://www.youtube.com/watch?v=nFXTf9PodCw')     # 김광석 - 먼지가 되어\n",
    "# yt = YouTube('https://www.youtube.com/watch?v=UCyz1pNO2oc')     # 김광석 - 잊어야 한다는 마음으로\n",
    "# yt = YouTube('https://www.youtube.com/watch?v=DMw5RKcbKVY')     # 김광석 - 서른 즈음에\n",
    "\n",
    "\n",
    "for url in urls:\n",
    "    yt = Youtube(url)\n",
    "    # 음성 품질이 가장 좋은 영상을 찾아냄\n",
    "    streams = yt.streams.filter(only_audio=True, file_extension='mp4')\n",
    "    max_abr = 0\n",
    "\n",
    "    for stream in streams:\n",
    "        abr = int(re.findall(r'\\d+', stream.abr)[0])\n",
    "        if abr > max_abr:\n",
    "            max_abr = abr\n",
    "            max_stream = stream\n",
    "\n",
    "    max_stream.download(path)\n",
    "    print('음악 다운로드 성공!')\n",
    "\n",
    "    # mp4 -> mp3\n",
    "    file_name = re.sub(r\"\\s*\\[.*?\\]\", \"\", f'{path+yt.title}')\n",
    "    file_name = re.sub(r\"\\s*\\{.*?\\}\", \"\", file_name)\n",
    "    file_name = re.sub(r'\\([^)]*\\)', '', file_name)\n",
    "    file_name = re.sub(r\"[^\\uAC00-\\uD7A30-9a-zA-Z\\s]\", \"\", file_name).replace(' ','')+'.mp3'\n",
    "\n",
    "\n",
    "    # print('file_name: ', file_name)\n",
    "    title = yt.title.replace('|','')\n",
    "    os.rename(path+title+'.mp4', path+file_name)\n",
    "\n",
    "    # mp3 -> wav\n",
    "    infile =  path+file_name\n",
    "    outfile = f'./music_files/wavfile/{os.path.basename(file_name)[:-4]}.wav'\n",
    "\n",
    "    # print(infile, outfile)\n",
    "\n",
    "    command = f'ffmpeg -i {infile} -ac 2 -f wav {outfile}'\n",
    "    os.system(command)\n",
    "    os.system(f'del {infile}')"
   ]
  },
  {
   "cell_type": "code",
   "execution_count": 162,
   "metadata": {},
   "outputs": [
    {
     "data": {
      "text/plain": [
       "'d:\\\\Python\\\\vocoder\\\\etc'"
      ]
     },
     "execution_count": 162,
     "metadata": {},
     "output_type": "execute_result"
    }
   ],
   "source": [
    "os.getcwd()"
   ]
  },
  {
   "cell_type": "code",
   "execution_count": 166,
   "metadata": {},
   "outputs": [
    {
     "name": "stdout",
     "output_type": "stream",
     "text": [
      "음악 다운로드 성공!\n"
     ]
    },
    {
     "data": {
      "text/plain": [
       "1"
      ]
     },
     "execution_count": 166,
     "metadata": {},
     "output_type": "execute_result"
    }
   ],
   "source": [
    "yt = YouTube('https://www.youtube.com/watch?v=R-Y7qCw8bmw')\n",
    "\n",
    "# 음성 품질이 가장 좋은 영상을 찾아냄\n",
    "streams = yt.streams.filter(only_audio=True, file_extension='mp4')\n",
    "max_abr = 0\n",
    "\n",
    "path = './music_files/'\n",
    "\n",
    "for stream in streams:\n",
    "    abr = int(re.findall(r'\\d+', stream.abr)[0])\n",
    "    if abr > max_abr:\n",
    "        max_abr = abr\n",
    "        max_stream = stream\n",
    "\n",
    "max_stream.download(path)\n",
    "print('음악 다운로드 성공!')\n",
    "\n",
    "# mp4 -> mp3\n",
    "file_name = re.sub(r\"\\s*\\[.*?\\]\", \"\", f'{path+yt.title}')\n",
    "file_name = re.sub(r\"\\s*\\{.*?\\}\", \"\", file_name)\n",
    "file_name = re.sub(r'\\([^)]*\\)', '', file_name)\n",
    "file_name = re.sub(r\"[^\\uAC00-\\uD7A30-9a-zA-Z\\s]\", \"\", file_name).replace(' ','')+'.mp3'\n",
    "\n",
    "\n",
    "# print('file_name: ', file_name)\n",
    "# title = re.sub(r'[^\\uAC00-\\uD7A30-9a-zA-Z\\s]', '', yt.title)\n",
    "title = yt.title.replace('|','').replace(':','')\n",
    "os.rename(path+title+'.mp4', path+file_name)\n",
    "\n",
    "# mp3 -> wav\n",
    "infile =  path+file_name\n",
    "outfile = f'./music_files/wavfile/{os.path.basename(file_name)[:-4]}.wav'\n",
    "\n",
    "# print(infile, outfile)\n",
    "\n",
    "command = f'ffmpeg -i {infile} -ac 2 -f wav {outfile}'\n",
    "os.system(command)\n",
    "os.system(f'del {infile}')"
   ]
  },
  {
   "cell_type": "markdown",
   "metadata": {},
   "source": [
    "## 음성파일 스테레오 -> 모노 변환"
   ]
  },
  {
   "cell_type": "code",
   "execution_count": 106,
   "metadata": {},
   "outputs": [],
   "source": [
    "# 스테레오 -> 모노 변환\n",
    "    def stero_to_mono(self, file_path):\n",
    "        # sound = AudioSegment.from_wav(\"./music_files/tears.wav\")\n",
    "        sound = AudioSegment.from_wav(file_path)\n",
    "        sound = sound.set_channels(1)\n",
    "        sound.export(file_path, format=\"wav\")"
   ]
  },
  {
   "cell_type": "markdown",
   "metadata": {},
   "source": [
    "## simple rate 44.1khz로 변환하기"
   ]
  },
  {
   "cell_type": "code",
   "execution_count": null,
   "metadata": {},
   "outputs": [],
   "source": [
    "def sr_change(self, file_path):\n",
    "        # 음성 파일 불러오기\n",
    "        y, sr = librosa.load(file_path, sr=None)\n",
    "\n",
    "        # 리샘플링\n",
    "        y_resampled = librosa.resample(y, sr, 44100)\n",
    "\n",
    "        # 결과 저장하기\n",
    "        librosa.output.write_wav(file_path, y_resampled, sr=44100)\n",
    "        "
   ]
  },
  {
   "cell_type": "code",
   "execution_count": 152,
   "metadata": {},
   "outputs": [
    {
     "name": "stdout",
     "output_type": "stream",
     "text": [
      "44100 2 16\n",
      "모노로 변환\n",
      "44100 1 16\n"
     ]
    }
   ],
   "source": [
    "path = './music_files/wavfile/musicfilesKimKwangSeokAboutThirtyLyricsOnly.wav'\n",
    "with wave.open(path, 'rb') as audio_file:\n",
    "    # sr(samplingrate 확인)\n",
    "    sr = audio_file.getframerate()\n",
    "    # 채널 수 확인(1=모노)\n",
    "    channels = audio_file.getnchannels()\n",
    "    # 비트 수 확인(16비트)\n",
    "    bit_depth = audio_file.getsampwidth() * 8\n",
    "    \n",
    "\n",
    "print(sr, channels, bit_depth)\n",
    "\n",
    "# librosa.load(path, sr=sr)\n",
    "\n",
    "if channels == 2:\n",
    "    mono_to_stereo(path)\n",
    "    print('모노로 변환')\n",
    "    \n",
    "if sr < 44000:\n",
    "    sr_change(path)\n",
    "    print('44100Khz로 변환')\n",
    "\n",
    "with wave.open(path, 'rb') as audio_file:\n",
    "    # sr(samplingrate 확인)\n",
    "    sr = audio_file.getframerate()\n",
    "    # 채널 수 확인(1=모노)\n",
    "    channels = audio_file.getnchannels()\n",
    "    # 비트 수 확인(16비트)\n",
    "    bit_depth = audio_file.getsampwidth() * 8\n",
    "print(sr, channels, bit_depth)"
   ]
  },
  {
   "attachments": {},
   "cell_type": "markdown",
   "metadata": {},
   "source": [
    "## 목소리 추출하기"
   ]
  },
  {
   "cell_type": "code",
   "execution_count": 148,
   "metadata": {},
   "outputs": [],
   "source": [
    "# os.chdir('../../')\n",
    "os.getcwd()"
   ]
  },
  {
   "cell_type": "markdown",
   "metadata": {},
   "source": [
    "## 한 소절(마디)씩 자르기"
   ]
  },
  {
   "cell_type": "code",
   "execution_count": 154,
   "metadata": {},
   "outputs": [],
   "source": [
    "import librosa\n",
    "import librosa.display\n",
    "import numpy as np\n",
    "import wave\n",
    "import math\n",
    "import soundfile as sf\n",
    "\n",
    "def split_voice(file_path, idx=0):\n",
    "    # Load audio file\n",
    "    # filename = './music_files/IU_input.wav'\n",
    "    file_name = os.path.basename(file_path)\n",
    "    y, sr = librosa.load(file_path, sr=None)\n",
    "\n",
    "    # 8초 간격으로 자르기\n",
    "    split_time = 8\n",
    "\n",
    "    with wave.open(file_path, 'rb') as wave_file:\n",
    "        # 샘플링 레이트, 채널 수, 샘플 수 정보 가져오기\n",
    "        framerate = wave_file.getframerate()\n",
    "        n_frames = wave_file.getnframes()\n",
    "\n",
    "        # 음성 파일 길이 계산 (초 단위)\n",
    "        duration = n_frames / float(framerate)\n",
    "        duration = int(math.ceil(duration))\n",
    "        \n",
    "    end = int(duration/split_time)\n",
    "\n",
    "    for i in range(end):\n",
    "        start = i * split_time\n",
    "        end = start + split_time\n",
    "\n",
    "        # 분할된 파일의 경로와 파일 이름 지정\n",
    "        output_filename = f\"./music_files/split_files/split_{i+idx}.wav\"\n",
    "\n",
    "        # 분할된 파일을 저장\n",
    "        sf.write(output_filename, y[start*sr:end*sr], sr)\n",
    "    \n",
    "    os.system(f'del \"./music_files/train_files/{file_name}\"')\n",
    "    return i+idx"
   ]
  },
  {
   "cell_type": "code",
   "execution_count": null,
   "metadata": {},
   "outputs": [],
   "source": []
  },
  {
   "attachments": {},
   "cell_type": "markdown",
   "metadata": {},
   "source": [
    "## 앞 뒤로 무음 제거하기"
   ]
  },
  {
   "cell_type": "code",
   "execution_count": 156,
   "metadata": {},
   "outputs": [],
   "source": [
    "from pydub import AudioSegment\n",
    "import librosa\n",
    "import librosa.display\n",
    "import soundfile as sf\n",
    "\n",
    "def delete_no_voice(file_path):\n",
    "    if os.path.basename(file_path) == 'vocals.wav':\n",
    "        del_file = f'./music_files/train_files/{os.path.basename(file_path)}'\n",
    "        del del_file\n",
    "        \n",
    "    # Load audio file\n",
    "    # filename = './music_files/original.wav'\n",
    "    file_name = os.path.basename(file_path)\n",
    "    audio = AudioSegment.from_file(file_path)\n",
    "\n",
    "    # Remove silent parts\n",
    "    audio_filtered = audio.strip_silence(silence_thresh=-30)\n",
    "\n",
    "    \n",
    "    # Save the output\n",
    "    audio_filtered.export(f'./music_files/train_files/{file_name}', format='wav')"
   ]
  },
  {
   "cell_type": "code",
   "execution_count": 157,
   "metadata": {},
   "outputs": [
    {
     "name": "stdout",
     "output_type": "stream",
     "text": [
      "전체적으로 제거\n",
      "전체적으로 제거\n",
      "분리\n"
     ]
    }
   ],
   "source": [
    "import os\n",
    "from glob import glob\n",
    "\n",
    "# path = './music_files/wavfile/spleeter vocals/musicfiles김광석잊어야한다는마음으로가사.wav'\n",
    "\n",
    "paths = glob('./music_files/wavfile/spleeter vocals/*.wav')\n",
    "\n",
    "for path in paths:\n",
    "    # 전체적으로 한 번 제거\n",
    "    delete_no_voice(path)\n",
    "    print('전체적으로 제거')\n",
    "\n",
    "# 10초 간격으로 분리하기\n",
    "files = glob('./music_files/train_files/*.wav')\n",
    "idx = 0\n",
    "for file in files:\n",
    "    if idx == 0:\n",
    "        idx = split_voice(file)\n",
    "    else:\n",
    "        idx = split_voice(file, idx)\n",
    "    \n",
    "# split_voice('./music_files/train_files/vocals.wav')\n",
    "print('분리')\n",
    "\n",
    "# 자른 파일 모두 앞 뒤로 무음 제거\n",
    "files = glob('./music_files/split_files/*')\n",
    "for file in files:\n",
    "    delete_no_voice(file)\n",
    "    \n",
    "    with wave.open(file, 'rb') as wave_file:\n",
    "        # 샘플링 레이트, 채널 수, 샘플 수 정보 가져오기\n",
    "        framerate = wave_file.getframerate()\n",
    "        n_frames = wave_file.getnframes()\n",
    "\n",
    "        # 음성 파일 길이 계산 (초 단위)\n",
    "        duration = n_frames / float(framerate)\n",
    "        duration = int(math.ceil(duration))\n",
    "            \n",
    "    if duration < 3:\n",
    "        del file\n",
    "        print(f'{duration}초 이므로 파일 삭제')"
   ]
  },
  {
   "cell_type": "code",
   "execution_count": 114,
   "metadata": {},
   "outputs": [
    {
     "data": {
      "text/plain": [
       "Text(0.5, 1.0, 'Waveform')"
      ]
     },
     "execution_count": 114,
     "metadata": {},
     "output_type": "execute_result"
    },
    {
     "data": {
      "image/png": "[encoded data removed]",
      "text/plain": [
       "<Figure size 640x480 with 1 Axes>"
      ]
     },
     "metadata": {},
     "output_type": "display_data"
    }
   ],
   "source": [
    "import matplotlib.pyplot as plt\n",
    "import numpy as np\n",
    "import librosa.display\n",
    "\n",
    "sig, sr = librosa.load('./music_files/IU_output.wav', sr = None)\n",
    "\n",
    "plt.figure()\n",
    "librosa.display.waveshow(sig, sr=44100, alpha=0.5)\n",
    "plt.xlabel(\"Time (s)\")\n",
    "plt.ylabel(\"Amplitude\")\n",
    "plt.title(\"Waveform\")"
   ]
  },
  {
   "cell_type": "code",
   "execution_count": null,
   "metadata": {},
   "outputs": [],
   "source": []
  },
  {
   "cell_type": "code",
   "execution_count": 2,
   "metadata": {},
   "outputs": [
    {
     "name": "stderr",
     "output_type": "stream",
     "text": [
      "영상 다운로드 중...:  94%|█████████▍| 30/32 [07:43<00:35, 17.65s/it]"
     ]
    }
   ],
   "source": [
    "from music_download.Youtube_download_wav import Youtube_to_wav\n",
    "\n",
    "urls = [\n",
    "    'https://www.youtube.com/watch?v=UCyz1pNO2oc',  # 김광석 - 잊어야 한다는 마음으로\n",
    "    'https://www.youtube.com/watch?v=DMw5RKcbKVY',  # 김광석 - 서른 즈음에\n",
    "    'https://www.youtube.com/watch?v=CYtv_k3fZyU',  # 김광석 - 이등병의 편지\n",
    "    'https://www.youtube.com/watch?v=nFXTf9PodCw',  # 김광석 - 먼지가 되어\n",
    "    'https://www.youtube.com/watch?v=ZZEv8ZB6G_s',  # 김광석 - 사랑했지만\n",
    "    'https://www.youtube.com/watch?v=38aOImEIJ7s',  # 깅광석 - 광야에서\n",
    "    'https://www.youtube.com/watch?v=vIv4-BjfYMM',  # 김광석 - 그대 웃음소리\n",
    "    'https://www.youtube.com/watch?v=t0etgCzvohc',  # 김광석 - 흐린 가을 하늘에 편지를 써\n",
    "    'https://www.youtube.com/watch?v=mOi-NNP_C4o',  # 김광석 - 기다려줘\n",
    "    'https://www.youtube.com/watch?v=-fQ4sajHM2c',  # 김광석 - 그루터기\n",
    "    'https://www.youtube.com/watch?v=7UwJkhLMtJQ',  # 김광석 - 말하지 못한 내 사랑\n",
    "    'https://www.youtube.com/watch?v=oy9BSiKIY4E',  # 김광석 - 거리에서\n",
    "    'https://www.youtube.com/watch?v=_eYX_SjA8po',  # 김광석 - 슬픈 노래\n",
    "    'https://www.youtube.com/watch?v=YWVTqzEsbvI',  # 김광석 - 너에게\n",
    "    'https://www.youtube.com/watch?v=UN088ASfMVw',  # 김광석 - 그날들\n",
    "    'https://www.youtube.com/watch?v=DfBaNMRybnY',  # 김광석 - 사랑이라는 이유로\n",
    "    'https://www.youtube.com/watch?v=Iib_LVcq_4A',  # 김광석 - 자유롭게\n",
    "    'https://www.youtube.com/watch?v=pENqrA4u0EA',  # 김광석 - 맑고 향기롭게\n",
    "    'https://www.youtube.com/watch?v=Hp1t88gI6bI',  # 김광석 - 끊어진 길\n",
    "    'https://www.youtube.com/watch?v=9eFOzhmubWA',  # 김광석 - 혼자 남은 밤\n",
    "    'https://www.youtube.com/watch?v=NASQB-oJ6dI',  # 김광석 - 너무 아픈 사랑이 아니였음을\n",
    "    'https://www.youtube.com/watch?v=lL__fO7qxJ8',  # 김광석 - 회귀\n",
    "    'https://www.youtube.com/watch?v=V20kfzhjVw8',  # 김광석 - 바람이 불어오는 곳\n",
    "    'https://www.youtube.com/watch?v=MrDdP6P5zgg',  # 김광석 - 일어나\n",
    "    'https://www.youtube.com/watch?v=nxm4Kgg4aFY',  # 김광석 - 행복의 문\n",
    "    'https://www.youtube.com/watch?v=rwjBjkaUGyU',  # 김광석 - 그대가 기억하는 내 모습\n",
    "    'https://www.youtube.com/watch?v=LqTpwtskWDw',  # 김광석 - 기대어 앉은 오후에는\n",
    "    'https://www.youtube.com/watch?v=vXhg-jUpOdY',  # 김광석 - 나무\n",
    "    'https://www.youtube.com/watch?v=ZpvkSOtASIc',  # 김광석 - 나의 노래\n",
    "    'https://www.youtube.com/watch?v=PbfYHI8JBR4',  # 김광석 - 다시 아침\n",
    "    'https://www.youtube.com/watch?v=5Trb3UIZDXY',  # 김광석 - 마음속의 풍경\n",
    "    'https://www.youtube.com/watch?v=OiCE5W_KTIw',  # 김광석 - 추억\n",
    "    \n",
    "]\n",
    "\n",
    "ytd = Youtube_to_wav()\n",
    "ytd.video_to_wav(urls)\n",
    "# ytd.video_to_wav(['https://www.youtube.com/watch?v=fau9T9OphTs&t=77s'])"
   ]
  },
  {
   "cell_type": "code",
   "execution_count": null,
   "metadata": {},
   "outputs": [
    {
     "name": "stdout",
     "output_type": "stream",
     "text": [
      "모노로 변환\n"
     ]
    }
   ],
   "source": [
    "from audio_settings.audio_set import audio_setting\n",
    "from glob import glob\n",
    "\n",
    "files = glob('./music_files/wavfile/*.wav')\n",
    "ast = audio_setting()\n",
    "ast.audio_change(files)"
   ]
  },
  {
   "cell_type": "code",
   "execution_count": null,
   "metadata": {},
   "outputs": [
    {
     "data": {
      "text/plain": [
       "'d:\\\\Python\\\\vocoder\\\\etc'"
      ]
     },
     "execution_count": 8,
     "metadata": {},
     "output_type": "execute_result"
    }
   ],
   "source": [
    "# os.chdir('../../')\n",
    "os.getcwd()"
   ]
  },
  {
   "cell_type": "code",
   "execution_count": 9,
   "metadata": {},
   "outputs": [
    {
     "name": "stderr",
     "output_type": "stream",
     "text": [
      "100%|██████████| 6/6 [01:10<00:00, 11.71s/it]\n"
     ]
    }
   ],
   "source": [
    "# 목소리 추출하기\n",
    "# import spleeter\n",
    "import os\n",
    "import shutil\n",
    "from tqdm import tqdm\n",
    "\n",
    "now_path = os.getcwd()\n",
    "# os.chdir('./music_files/wavfile/')\n",
    "os.chdir('./music_download/wav_files/')\n",
    "files = os.listdir(os.getcwd())\n",
    "# print(files)\n",
    "for file in tqdm(files):\n",
    "    if '.wav' in file:\n",
    "        # spl = f'spleeter separate -p spleeter:2stems -o output {os.path.basename(file_name)}'\n",
    "        # file_name = file\n",
    "        spl = f'spleeter separate -p spleeter:2stems -o output {file}'\n",
    "        os.system(spl)\n",
    "        try:\n",
    "            shutil.move(f'./output/{file[:-4]}/vocals.wav', f'../spleeter vocals/vocals.wav')\n",
    "            os.rename('../spleeter vocals/vocals.wav', f'../spleeter vocals/{file}')\n",
    "            shutil.move(f'./{file}', f'../use/{file}')\n",
    "        except FileExistsError:\n",
    "            print('파일이 이미 존재합니다.')\n",
    "        \n",
    "os.chdir(now_path)"
   ]
  },
  {
   "cell_type": "code",
   "execution_count": 1,
   "metadata": {},
   "outputs": [
    {
     "name": "stderr",
     "output_type": "stream",
     "text": [
      "전체적으로 앞, 뒤 무음 제거: 100%|██████████| 3/3 [01:14<00:00, 24.75s/it]\n",
      "간격으로 음성파일 분리중...: 100%|██████████| 3/3 [00:03<00:00,  1.15s/it]\n"
     ]
    },
    {
     "name": "stdout",
     "output_type": "stream",
     "text": [
      "분리\n"
     ]
    },
    {
     "name": "stderr",
     "output_type": "stream",
     "text": [
      "무음 제거중...: 100%|██████████| 60/60 [00:22<00:00,  2.66it/s]\n"
     ]
    }
   ],
   "source": [
    "from split_music.split_music import split_sound\n",
    "\n",
    "ss = split_sound()\n",
    "ss.run()"
   ]
  }
 ],
 "metadata": {
  "kernelspec": {
   "display_name": "CUDA",
   "language": "python",
   "name": "python3"
  },
  "language_info": {
   "codemirror_mode": {
    "name": "ipython",
    "version": 3
   },
   "file_extension": ".py",
   "mimetype": "text/x-python",
   "name": "python",
   "nbconvert_exporter": "python",
   "pygments_lexer": "ipython3",
   "version": "3.9.16"
  },
  "orig_nbformat": 4
 },
 "nbformat": 4,
 "nbformat_minor": 2
}
